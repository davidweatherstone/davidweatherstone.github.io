{
 "cells": [
  {
   "cell_type": "code",
   "execution_count": 8,
   "metadata": {},
   "outputs": [
    {
     "name": "stdout",
     "output_type": "stream",
     "text": [
      "HTML Report was generated at: G:\\My Drive\\Data\\Projects\\davidweatherstone.github.io\\Content\\004_House_Prices_Darlington\n"
     ]
    },
    {
     "data": {
      "text/plain": [
       "'G:\\\\My Drive\\\\Data\\\\Projects\\\\davidweatherstone.github.io\\\\Content\\\\004_House_Prices_Darlington'"
      ]
     },
     "execution_count": 8,
     "metadata": {},
     "output_type": "execute_result"
    }
   ],
   "source": [
    "import os\n",
    "import subprocess\n",
    "\n",
    "def generate_html_report(notebook_file, output_dir, output_filename):\n",
    "    \"\"\"\n",
    "    A function that converts a notebook into an html\n",
    "    file with specified output directory and filename.\n",
    "    \"\"\"\n",
    "    # Check if the output directory exists, if not, create it\n",
    "    if not os.path.exists(output_dir):\n",
    "        os.makedirs(output_dir)\n",
    "\n",
    "    # Construct the output file path\n",
    "    output_path = os.path.join(output_dir, output_filename)\n",
    "\n",
    "    # Modify the subprocess command to specify output directory and file name\n",
    "    generate = subprocess.run(\n",
    "        [\"jupyter\", \"nbconvert\", notebook_file, \"--to=html\", \"--output-dir\", output_dir, \"--output\", output_filename]\n",
    "    )\n",
    "    print(\"HTML Report was generated at:\", output_path)\n",
    "    return output_path\n",
    "\n",
    "# Example usage:\n",
    "notebook_file = \"G:\\My Drive\\Data\\Projects\\Darlington_House_Prices\\exploring house prices.ipynb\"\n",
    "output_directory = \"G:\\My Drive\\Data\\Projects\\davidweatherstone.github.io\\Content\"\n",
    "output_filename = \"004_House_Prices_Darlington\"\n",
    "\n",
    "generate_html_report(notebook_file, output_directory, output_filename)\n"
   ]
  },
  {
   "cell_type": "code",
   "execution_count": null,
   "metadata": {},
   "outputs": [],
   "source": []
  }
 ],
 "metadata": {
  "kernelspec": {
   "display_name": "base",
   "language": "python",
   "name": "python3"
  },
  "language_info": {
   "codemirror_mode": {
    "name": "ipython",
    "version": 3
   },
   "file_extension": ".py",
   "mimetype": "text/x-python",
   "name": "python",
   "nbconvert_exporter": "python",
   "pygments_lexer": "ipython3",
   "version": "3.11.5"
  }
 },
 "nbformat": 4,
 "nbformat_minor": 2
}
